{
  "cells": [
    {
      "cell_type": "code",
      "execution_count": null,
      "metadata": {
        "id": "hGRn3nzORpCM"
      },
      "outputs": [],
      "source": [
        "import numpy as np"
      ]
    },
    {
      "cell_type": "markdown",
      "metadata": {
        "id": "rku5tZ7VUGea"
      },
      "source": [
        "#**NumPy Array**"
      ]
    },
    {
      "cell_type": "code",
      "execution_count": null,
      "metadata": {
        "colab": {
          "base_uri": "https://localhost:8080/"
        },
        "id": "7hnzhKcgJ2c2",
        "outputId": "04b8a547-6332-4928-ab09-6f1a7a509d0d"
      },
      "outputs": [
        {
          "output_type": "stream",
          "name": "stdout",
          "text": [
            "\u001b[1m1.How to create an empty and a full NumPy array?\n",
            "\u001b[0m\n",
            "Empty Array: \n",
            " [[1.43e-322 1.43e-322 1.43e-322 1.43e-322]\n",
            " [1.43e-322 1.43e-322 1.43e-322 1.43e-322]] \n",
            "\n",
            "Full Array: \n",
            " [[29 29 29 29]\n",
            " [29 29 29 29]]\n"
          ]
        }
      ],
      "source": [
        "# 1.How to create an empty and a full NumPy array?\n",
        "print('\\033[1m' + \"1.How to create an empty and a full NumPy array?\\n\" + '\\033[0m')\n",
        "\n",
        "emptyArray = np.empty((2, 4))\n",
        "print(\"Empty Array: \\n\", emptyArray, \"\\n\")\n",
        "fullArray = np.full((2, 4), 29)\n",
        "print(\"Full Array: \\n\", fullArray)"
      ]
    },
    {
      "cell_type": "code",
      "source": [
        "# 2.Create a Numpy array filled with all zeros\n",
        "print('\\033[1m' + \"2.Create a Numpy array filled with all zeros\\n\" + '\\033[0m')\n",
        "\n",
        "zerosArray = np.zeros((2, 3))\n",
        "print(\"Array of Zeros: \\n\", zerosArray)"
      ],
      "metadata": {
        "colab": {
          "base_uri": "https://localhost:8080/"
        },
        "id": "7Pmh3ofyi8i8",
        "outputId": "1721dd87-5e41-4cc4-f386-a332f9cf220d"
      },
      "execution_count": null,
      "outputs": [
        {
          "output_type": "stream",
          "name": "stdout",
          "text": [
            "\u001b[1m2.Create a Numpy array filled with all zeros\n",
            "\u001b[0m\n",
            "Array of Zeros: \n",
            " [[0. 0. 0.]\n",
            " [0. 0. 0.]]\n"
          ]
        }
      ]
    },
    {
      "cell_type": "code",
      "source": [
        "# 3.Create a Numpy array filled with all ones\n",
        "print('\\033[1m' + \"3.Create a Numpy array filled with all ones\\n\" + '\\033[0m')\n",
        "\n",
        "onesArray = np.ones((2, 3))\n",
        "print(\"Array of Ones: \\n\", onesArray)"
      ],
      "metadata": {
        "colab": {
          "base_uri": "https://localhost:8080/"
        },
        "id": "d8Y4EzGri-tt",
        "outputId": "28d7f559-8ebd-4751-dd2b-4d302ad2db97"
      },
      "execution_count": null,
      "outputs": [
        {
          "output_type": "stream",
          "name": "stdout",
          "text": [
            "\u001b[1m3.Create a Numpy array filled with all ones\n",
            "\u001b[0m\n",
            "Array of Ones: \n",
            " [[1. 1. 1.]\n",
            " [1. 1. 1.]]\n"
          ]
        }
      ]
    },
    {
      "cell_type": "code",
      "source": [
        "# 4.Check whether a Numpy array contains a specified row\n",
        "print('\\033[1m' + \"4.Check whether a Numpy array contains a specified row\\n\" + '\\033[0m')\n",
        "\n",
        "array = np.array([[1, 2, 3], \n",
        "                  [4, 5, 6]])\n",
        "row = [4, 5, 6]\n",
        "if(row in array.tolist()):\n",
        "    print(\"Row: \", row, \"\\nEstá contido no array: \\n\", array)"
      ],
      "metadata": {
        "colab": {
          "base_uri": "https://localhost:8080/"
        },
        "id": "d4v4MSsKjBhd",
        "outputId": "34723828-5abb-42ad-bf1a-da35d46d2d99"
      },
      "execution_count": null,
      "outputs": [
        {
          "output_type": "stream",
          "name": "stdout",
          "text": [
            "\u001b[1m4.Check whether a Numpy array contains a specified row\n",
            "\u001b[0m\n",
            "Row:  [4, 5, 6] \n",
            "Está contido no array: \n",
            " [[1 2 3]\n",
            " [4 5 6]]\n"
          ]
        }
      ]
    },
    {
      "cell_type": "code",
      "source": [
        "# 5.How to Remove rows in Numpy array that contains non-numeric values?\n",
        "print('\\033[1m' + \"5.How to Remove rows in Numpy array that contains non-numeric values?\\n\" + '\\033[0m')\n",
        "\n",
        "arr = np.array([[1, 2, 3], \n",
        "                [4, 5, np.nan]])\n",
        "arrayWithoutNaN = arr[~np.isnan(arr).any(axis=1)]\n",
        "print(\"Array: \\n\", arr, \"\\nArray sem linhas com valores NaN: \\n\", arrayWithoutNaN)"
      ],
      "metadata": {
        "colab": {
          "base_uri": "https://localhost:8080/"
        },
        "id": "qPOR_q4BjDyU",
        "outputId": "6599c949-0293-4d23-bc0c-c40758ff08ca"
      },
      "execution_count": null,
      "outputs": [
        {
          "output_type": "stream",
          "name": "stdout",
          "text": [
            "\u001b[1m5.How to Remove rows in Numpy array that contains non-numeric values?\n",
            "\u001b[0m\n",
            "Array: \n",
            " [[ 1.  2.  3.]\n",
            " [ 4.  5. nan]] \n",
            "Array sem linhas com valores NaN: \n",
            " [[1. 2. 3.]]\n"
          ]
        }
      ]
    },
    {
      "cell_type": "code",
      "source": [
        "# 6.Remove single-dimensional entries from the shape of an array\n",
        "print('\\033[1m' + \"6.Remove single-dimensional entries from the shape of an array\\n\" + '\\033[0m')\n",
        "\n",
        "array = np.array([[[1, 2, 3]]])\n",
        "print(\"Array: \\n\", array, \"\\nArray após remoção de eixos com tamanho 1: \\n\", array.squeeze())"
      ],
      "metadata": {
        "colab": {
          "base_uri": "https://localhost:8080/"
        },
        "id": "vJU1jM67jHB7",
        "outputId": "e760536b-7347-4337-e305-243326b1c8b5"
      },
      "execution_count": null,
      "outputs": [
        {
          "output_type": "stream",
          "name": "stdout",
          "text": [
            "\u001b[1m6.Remove single-dimensional entries from the shape of an array\n",
            "\u001b[0m\n",
            "Array: \n",
            " [[[1 2 3]]] \n",
            "Array após remoção de eixos com tamanho 1: \n",
            " [1 2 3]\n"
          ]
        }
      ]
    },
    {
      "cell_type": "code",
      "source": [
        "# 7.Find the number of occurrences of a sequence in a NumPy array\n",
        "print('\\033[1m' + \"7.Find the number of occurrences of a sequence in a NumPy array\\n\" + '\\033[0m')\n",
        "\n",
        "array = np.array([[1, 2, 3], \n",
        "                  [4, 5, 6]])\n",
        "sequence = '4, 5'\n",
        "print(\"Array: \\n\", array, \"\\nO array possui: \", repr(array).count(sequence), \" sequências de (\" + sequence + \")\")"
      ],
      "metadata": {
        "colab": {
          "base_uri": "https://localhost:8080/"
        },
        "id": "8qt5KRDtjJZC",
        "outputId": "1ea143a6-4f48-401d-d31a-9bed1c26c025"
      },
      "execution_count": null,
      "outputs": [
        {
          "output_type": "stream",
          "name": "stdout",
          "text": [
            "\u001b[1m7.Find the number of occurrences of a sequence in a NumPy array\n",
            "\u001b[0m\n",
            "Array: \n",
            " [[1 2 3]\n",
            " [4 5 6]] \n",
            "O array possui:  1  sequências de (4, 5)\n"
          ]
        }
      ]
    },
    {
      "cell_type": "code",
      "source": [
        "# 8.Find the most frequent value in a NumPy array\n",
        "print('\\033[1m' + \"8.Find the most frequent value in a NumPy array\\n\" + '\\033[0m')\n",
        "\n",
        "array = np.array([[1, 8, 2], \n",
        "                  [2, 8, 8]])\n",
        "#print(array.flat.copy())\n",
        "print(\"Elemento mais frequente do array: \", np.bincount(array.flat).argmax())"
      ],
      "metadata": {
        "colab": {
          "base_uri": "https://localhost:8080/"
        },
        "id": "gh9E42UMjLhu",
        "outputId": "ac11df52-3978-47d5-8075-2774672d606a"
      },
      "execution_count": null,
      "outputs": [
        {
          "output_type": "stream",
          "name": "stdout",
          "text": [
            "\u001b[1m8.Find the most frequent value in a NumPy array\n",
            "\u001b[0m\n",
            "Elemento mais frequente do array:  8\n"
          ]
        }
      ]
    },
    {
      "cell_type": "code",
      "source": [
        "# 9.Combining a one and a two-dimensional NumPy Array\n",
        "print('\\033[1m' + \"9.Combining a one and a two-dimensional NumPy Array\\n\" + '\\033[0m')\n",
        "\n",
        "arrayTwoDim = np.array([[1, 8, 2], \n",
        "                        [2, 8, 8]])\n",
        "\n",
        "arrayOneDim = np.array([1, 2, 3])\n",
        "print(\"Array com uma dimensão: \\n\", arrayOneDim)\n",
        "print(\"Array com duas dimensão: \\n\", arrayTwoDim)\n",
        "print()\n",
        "for i, j in np.nditer([arrayOneDim, arrayTwoDim]):\n",
        "    print(i, \"|\", j)"
      ],
      "metadata": {
        "colab": {
          "base_uri": "https://localhost:8080/"
        },
        "id": "r-7MVs8EjNWG",
        "outputId": "eb0adb67-cd7e-4a33-c01f-7c9da70429db"
      },
      "execution_count": null,
      "outputs": [
        {
          "output_type": "stream",
          "name": "stdout",
          "text": [
            "\u001b[1m9.Combining a one and a two-dimensional NumPy Array\n",
            "\u001b[0m\n",
            "Array com uma dimensão: \n",
            " [1 2 3]\n",
            "Array com duas dimensão: \n",
            " [[1 8 2]\n",
            " [2 8 8]]\n",
            "\n",
            "1 | 1\n",
            "2 | 8\n",
            "3 | 2\n",
            "1 | 2\n",
            "2 | 8\n",
            "3 | 8\n"
          ]
        }
      ]
    },
    {
      "cell_type": "code",
      "source": [
        "# 10.How to build an array of all combinations of two NumPy arrays?\n",
        "print('\\033[1m' + \"10.How to build an array of all combinations of two NumPy arrays?\\n\" + '\\033[0m')\n",
        "\n",
        "array1 = np.array([1, 2, 3])\n",
        "array2 = np.array([4, 5])\n",
        "\n",
        "print(\"Array 1: \\n\", array1)\n",
        "print(\"Array 2: \\n\", array2)\n",
        "combinations = np.array(np.meshgrid(array1, array2)).T.reshape(-1, 2)\n",
        "print(\"\\nCombinações: \\n\", combinations)"
      ],
      "metadata": {
        "colab": {
          "base_uri": "https://localhost:8080/"
        },
        "id": "X94u8swuqHwV",
        "outputId": "3c37173e-f06f-4391-f48c-66b8977855d1"
      },
      "execution_count": null,
      "outputs": [
        {
          "output_type": "stream",
          "name": "stdout",
          "text": [
            "\u001b[1m10.How to build an array of all combinations of two NumPy arrays?\n",
            "\u001b[0m\n",
            "Array 1: \n",
            " [1 2 3]\n",
            "Array 2: \n",
            " [4 5]\n",
            "\n",
            "Combinações: \n",
            " [[1 4]\n",
            " [1 5]\n",
            " [2 4]\n",
            " [2 5]\n",
            " [3 4]\n",
            " [3 5]]\n"
          ]
        }
      ]
    },
    {
      "cell_type": "code",
      "source": [
        "# 11.How to add a border around a NumPy array?\n",
        "print('\\033[1m' + \"11.How to add a border around a NumPy array?\\n\" + '\\033[0m')\n",
        "\n",
        "array = np.arange(1, 7).reshape(2, 3)\n",
        "\n",
        "print(\"Array: \\n\", array, \"\\n\\nArray com padding: \\n\", np.pad(array, 2, constant_values=0))"
      ],
      "metadata": {
        "colab": {
          "base_uri": "https://localhost:8080/"
        },
        "id": "7Y79TIIbtvwI",
        "outputId": "0a1cc536-d01d-4309-bff5-c5f78ffc0a96"
      },
      "execution_count": null,
      "outputs": [
        {
          "output_type": "stream",
          "name": "stdout",
          "text": [
            "\u001b[1m11.How to add a border around a NumPy array?\n",
            "\u001b[0m\n",
            "Array: \n",
            " [[1 2 3]\n",
            " [4 5 6]] \n",
            "\n",
            "Array com padding: \n",
            " [[0 0 0 0 0 0 0]\n",
            " [0 0 0 0 0 0 0]\n",
            " [0 0 1 2 3 0 0]\n",
            " [0 0 4 5 6 0 0]\n",
            " [0 0 0 0 0 0 0]\n",
            " [0 0 0 0 0 0 0]]\n"
          ]
        }
      ]
    },
    {
      "cell_type": "code",
      "source": [
        "def isEqual(array1, array2):\n",
        "    if((array1 == array2).all()):\n",
        "        print(\"Os dois arrays são iguais\")\n",
        "    else:\n",
        "        print(\"Os dois arrays não são iguais\")\n",
        "\n",
        "# 12.How to compare two NumPy arrays?\n",
        "print('\\033[1m' + \"12.How to compare two NumPy arrays?\\n\" + '\\033[0m')\n",
        "\n",
        "array1 = np.arange(1, 7).reshape(2, 3)\n",
        "array2 = np.arange(1, 7).reshape(2, 3)\n",
        "\n",
        "print(\"Array 1: \\n\", array1)\n",
        "print(\"Array 2: \\n\", array2)\n",
        "isEqual(array1, array2)\n",
        "print()\n",
        "\n",
        "array2[0][0] = 5\n",
        "print(\"Array 1: \\n\", array1)\n",
        "print(\"Array 2: \\n\", array2)\n",
        "isEqual(array1, array2)"
      ],
      "metadata": {
        "colab": {
          "base_uri": "https://localhost:8080/"
        },
        "id": "_6QL1iw-tw2q",
        "outputId": "5edf825c-5241-4803-d243-2068f312eefd"
      },
      "execution_count": null,
      "outputs": [
        {
          "output_type": "stream",
          "name": "stdout",
          "text": [
            "\u001b[1m12.How to compare two NumPy arrays?\n",
            "\u001b[0m\n",
            "Array 1: \n",
            " [[1 2 3]\n",
            " [4 5 6]]\n",
            "Array 2: \n",
            " [[1 2 3]\n",
            " [4 5 6]]\n",
            "Os dois arrays são iguais\n",
            "\n",
            "Array 1: \n",
            " [[1 2 3]\n",
            " [4 5 6]]\n",
            "Array 2: \n",
            " [[5 2 3]\n",
            " [4 5 6]]\n",
            "Os dois arrays não são iguais\n"
          ]
        }
      ]
    },
    {
      "cell_type": "code",
      "source": [
        "# 13.How to check whether specified values are present in NumPy array?\n",
        "print('\\033[1m' + \"13.How to check whether specified values are present in NumPy array?\\n\" + '\\033[0m')\n",
        "\n",
        "array = np.arange(1, 7).reshape(2, 3)\n",
        "value = 6\n",
        "\n",
        "if(value in array):\n",
        "    print(f\"O valor \\\"{value}\\\" está no array: \\n{array}\")\n",
        "else:\n",
        "    print(f\"O valor \\\"{value}\\\" não está no array: \\n{array}\")"
      ],
      "metadata": {
        "colab": {
          "base_uri": "https://localhost:8080/"
        },
        "id": "sXVT1PpEtyae",
        "outputId": "b44e303a-cfbe-4624-df08-2b5078ef0c7f"
      },
      "execution_count": null,
      "outputs": [
        {
          "output_type": "stream",
          "name": "stdout",
          "text": [
            "\u001b[1m13.How to check whether specified values are present in NumPy array?\n",
            "\u001b[0m\n",
            "O valor \"6\" está no array: \n",
            "[[1 2 3]\n",
            " [4 5 6]]\n"
          ]
        }
      ]
    },
    {
      "cell_type": "code",
      "source": [
        "# 14.How to get all 2D diagonals of a 3D NumPy array?\n",
        "print('\\033[1m' + \"14.How to get all 2D diagonals of a 3D NumPy array?\\n\" + '\\033[0m')\n",
        "\n",
        "array = np.arange(3 * 2 * 2).reshape(3, 2, 2)\n",
        "print(\"3D array: \\n\", array)\n",
        "print(\"\\n2D diagonals array: \\n\", np.diagonal(array, axis1 = 1, axis2 = 2))"
      ],
      "metadata": {
        "colab": {
          "base_uri": "https://localhost:8080/"
        },
        "id": "h0lnFlkAtzrb",
        "outputId": "a09bb8fb-7ae5-422a-db17-50e6c905d52e"
      },
      "execution_count": null,
      "outputs": [
        {
          "output_type": "stream",
          "name": "stdout",
          "text": [
            "\u001b[1m14.How to get all 2D diagonals of a 3D NumPy array?\n",
            "\u001b[0m\n",
            "3D array: \n",
            " [[[ 0  1]\n",
            "  [ 2  3]]\n",
            "\n",
            " [[ 4  5]\n",
            "  [ 6  7]]\n",
            "\n",
            " [[ 8  9]\n",
            "  [10 11]]]\n",
            "\n",
            "2D diagonals array: \n",
            " [[ 0  3]\n",
            " [ 4  7]\n",
            " [ 8 11]]\n"
          ]
        }
      ]
    },
    {
      "cell_type": "code",
      "source": [
        "# 15.Flatten a Matrix in Python using NumPy\n",
        "print('\\033[1m' + \"15.Flatten a Matrix in Python using NumPy\\n\" + '\\033[0m')\n",
        "\n",
        "array = np.arange(1, 7).reshape(2, 3)\n",
        "\n",
        "print(\"Matrix: \\n\", array, \"\\nFlatten Matrix: \\n\", array.flatten())"
      ],
      "metadata": {
        "colab": {
          "base_uri": "https://localhost:8080/"
        },
        "id": "vGgXpgQat1V-",
        "outputId": "836dd4b7-4cb8-4007-d97c-065a6ec69326"
      },
      "execution_count": null,
      "outputs": [
        {
          "output_type": "stream",
          "name": "stdout",
          "text": [
            "\u001b[1m15.Flatten a Matrix in Python using NumPy\n",
            "\u001b[0m\n",
            "Matrix: \n",
            " [[1 2 3]\n",
            " [4 5 6]] \n",
            "Flatten Matrix: \n",
            " [1 2 3 4 5 6]\n"
          ]
        }
      ]
    },
    {
      "cell_type": "code",
      "source": [
        "# 16.Flatten a 2d numpy array into 1d array\n",
        "print('\\033[1m' + \"16.Flatten a 2d numpy array into 1d array\\n\" + '\\033[0m')\n",
        "\n",
        "array = np.arange(1, 7).reshape(2, 3)\n",
        "\n",
        "print(\"2d numpy array: \\n\", array, \"\\nFlatten 2d numpy array: \\n\", array.flatten())"
      ],
      "metadata": {
        "colab": {
          "base_uri": "https://localhost:8080/"
        },
        "id": "uLJUB28Jt2oh",
        "outputId": "9e2ff56c-fea3-42c7-d721-90fa20f5d364"
      },
      "execution_count": null,
      "outputs": [
        {
          "output_type": "stream",
          "name": "stdout",
          "text": [
            "\u001b[1m16.Flatten a 2d numpy array into 1d array\n",
            "\u001b[0m\n",
            "2d numpy array: \n",
            " [[1 2 3]\n",
            " [4 5 6]] \n",
            "Flatten 2d numpy array: \n",
            " [1 2 3 4 5 6]\n"
          ]
        }
      ]
    },
    {
      "cell_type": "code",
      "source": [
        "# 17.Move axes of an array to new positions\n",
        "print('\\033[1m' + \"17.Move axes of an array to new positions\\n\" + '\\033[0m')\n",
        "\n",
        "array = np.arange(1, 7).reshape(2, 3)\n",
        "\n",
        "print(\"Array: \\n\", array, \"\\nArray with moved axes: \\n\", np.moveaxis(array, 0, -1))"
      ],
      "metadata": {
        "colab": {
          "base_uri": "https://localhost:8080/"
        },
        "id": "5n-KOq9ft35C",
        "outputId": "8b7f5926-4ab2-4f95-ed1f-828b2b713480"
      },
      "execution_count": null,
      "outputs": [
        {
          "output_type": "stream",
          "name": "stdout",
          "text": [
            "\u001b[1m17.Move axes of an array to new positions\n",
            "\u001b[0m\n",
            "Array: \n",
            " [[1 2 3]\n",
            " [4 5 6]] \n",
            "Array with moved axes: \n",
            " [[1 4]\n",
            " [2 5]\n",
            " [3 6]]\n"
          ]
        }
      ]
    },
    {
      "cell_type": "code",
      "source": [
        "# 18.Interchange two axes of an array\n",
        "print('\\033[1m' + \"18.Interchange two axes of an array\\n\" + '\\033[0m')\n",
        "\n",
        "array = np.arange(1, 7).reshape(2, 3)\n",
        "\n",
        "print(\"Array: \\n\", array, \"\\nArray with moved axes: \\n\", np.swapaxes(array, 0, 1))"
      ],
      "metadata": {
        "colab": {
          "base_uri": "https://localhost:8080/"
        },
        "id": "kehHinaLt5tC",
        "outputId": "5970eb52-cc8c-4e73-b332-4771791c11a9"
      },
      "execution_count": null,
      "outputs": [
        {
          "output_type": "stream",
          "name": "stdout",
          "text": [
            "\u001b[1m18.Interchange two axes of an array\n",
            "\u001b[0m\n",
            "Array: \n",
            " [[1 2 3]\n",
            " [4 5 6]] \n",
            "Array with moved axes: \n",
            " [[1 4]\n",
            " [2 5]\n",
            " [3 6]]\n"
          ]
        }
      ]
    },
    {
      "cell_type": "code",
      "source": [
        "# 19.NumPy – Fibonacci Series using Binet Formula\n",
        "print('\\033[1m' + \"19.NumPy – Fibonacci Series using Binet Formula\\n\" + '\\033[0m')\n",
        "\n",
        "array = np.arange(1, 15) \n",
        "\n",
        "alpha = (1 + np.sqrt(5)) / 2\n",
        "\n",
        "beta = (1 - np.sqrt(5)) / 2\n",
        "\n",
        "#np.rint serve para arredondar os elementos do array\n",
        "\n",
        "fn = np.rint((alpha ** array - beta ** array) / np.sqrt(5)) \n",
        "\n",
        "print(f\"Os primeiros {len(array)} números da série de Fibonacci {fn}\")"
      ],
      "metadata": {
        "id": "MiW7C2N1t6-Y",
        "colab": {
          "base_uri": "https://localhost:8080/"
        },
        "outputId": "3d44f34a-6f76-4862-a62f-5254f2c200bb"
      },
      "execution_count": null,
      "outputs": [
        {
          "output_type": "stream",
          "name": "stdout",
          "text": [
            "\u001b[1m19.NumPy – Fibonacci Series using Binet Formula\n",
            "\u001b[0m\n",
            "Os primeiros 14 números da série de Fibonacci [  1.   1.   2.   3.   5.   8.  13.  21.  34.  55.  89. 144. 233. 377.]\n"
          ]
        }
      ]
    },
    {
      "cell_type": "code",
      "source": [
        "# 20.Counts the number of non-zero values in the array\n",
        "print('\\033[1m' + \"20.Counts the number of non-zero values in the array\\n\" + '\\033[0m')\n",
        "\n",
        "array = np.arange(6).reshape(2, 3)\n",
        "\n",
        "print(\"Array: \\n\", array, \"\\nQuantidade de valores diferentes de 0: \\n\", np.count_nonzero(array))"
      ],
      "metadata": {
        "id": "Pb_evMB7t8VX",
        "colab": {
          "base_uri": "https://localhost:8080/"
        },
        "outputId": "028d2e9f-7d77-4d7d-fcf3-9d715503165e"
      },
      "execution_count": null,
      "outputs": [
        {
          "output_type": "stream",
          "name": "stdout",
          "text": [
            "\u001b[1m20.Counts the number of non-zero values in the array\n",
            "\u001b[0m\n",
            "Array: \n",
            " [[0 1 2]\n",
            " [3 4 5]] \n",
            "Quantidade de valores diferentes de 0: \n",
            " 5\n"
          ]
        }
      ]
    },
    {
      "cell_type": "code",
      "source": [
        "# 21.Count the number of elements along a given axis\n",
        "print('\\033[1m' + \"21.Count the number of elements along a given axis\\n\" + '\\033[0m')\n",
        "\n",
        "array = np.arange(6).reshape(2, 3)\n",
        "\n",
        "print(\"Array: \\n\", array, \"\\nQuantidade de elementos no eixo x(quantidade de linhas): \\n\", np.size(array, 0))"
      ],
      "metadata": {
        "id": "cxV5CqD5t9ma",
        "colab": {
          "base_uri": "https://localhost:8080/"
        },
        "outputId": "c7b6c89f-1b52-4dc2-b6a0-1dad8e6eaa8d"
      },
      "execution_count": null,
      "outputs": [
        {
          "output_type": "stream",
          "name": "stdout",
          "text": [
            "\u001b[1m21.Count the number of elements along a given axis\n",
            "\u001b[0m\n",
            "Array: \n",
            " [[0 1 2]\n",
            " [3 4 5]] \n",
            "Quantidade de elementos no eixo x(quantidade de linhas): \n",
            " 2\n"
          ]
        }
      ]
    },
    {
      "cell_type": "code",
      "source": [
        "# 22.Trim the leading and/or trailing zeros from a 1-D array\n",
        "print('\\033[1m' + \"22.Trim the leading and/or trailing zeros from a 1-D array\\n\" + '\\033[0m')\n",
        "\n",
        "array = np.arange(6)\n",
        "array = np.append(array, 0)\n",
        "\n",
        "print(\"Array: \\n\", array, \"\\nArray após remoção dos zeros: \\n\", np.trim_zeros(array))"
      ],
      "metadata": {
        "id": "0m-Rb9XhuCMn",
        "colab": {
          "base_uri": "https://localhost:8080/"
        },
        "outputId": "8b148281-69dc-4d3e-919f-813642196de4"
      },
      "execution_count": null,
      "outputs": [
        {
          "output_type": "stream",
          "name": "stdout",
          "text": [
            "\u001b[1m22.Trim the leading and/or trailing zeros from a 1-D array\n",
            "\u001b[0m\n",
            "Array: \n",
            " [0 1 2 3 4 5 0] \n",
            "Array após remoção dos zeros: \n",
            " [1 2 3 4 5]\n"
          ]
        }
      ]
    },
    {
      "cell_type": "code",
      "source": [
        "# 23.Change data type of given numpy array\n",
        "print('\\033[1m' + \"23.Change data type of given numpy array\\n\" + '\\033[0m')\n",
        "\n",
        "array = np.arange(6)\n",
        "arrayFloat = array.astype('float64')\n",
        "print(\"Array: \\n\", array, \"\\nArray de floats: \\n\", arrayFloat)"
      ],
      "metadata": {
        "id": "jPbgCOv5uDY9",
        "colab": {
          "base_uri": "https://localhost:8080/"
        },
        "outputId": "559602ca-7424-4ee7-8c6d-6933ea2ee5a2"
      },
      "execution_count": null,
      "outputs": [
        {
          "output_type": "stream",
          "name": "stdout",
          "text": [
            "\u001b[1m23.Change data type of given numpy array\n",
            "\u001b[0m\n",
            "Array: \n",
            " [0 1 2 3 4 5] \n",
            "Array de floats: \n",
            " [0. 1. 2. 3. 4. 5.]\n"
          ]
        }
      ]
    },
    {
      "cell_type": "code",
      "source": [
        "# 24.Reverse a numpy array\n",
        "print('\\033[1m' + \"24.Reverse a numpy array\\n\" + '\\033[0m')\n",
        "\n",
        "array = np.arange(6)\n",
        "arrayFliped = np.flip(array)\n",
        "\n",
        "print(\"Array: \\n\", array, \"\\nArray reverso: \\n\", arrayFliped)"
      ],
      "metadata": {
        "id": "Q0ua7nkxuGnK",
        "colab": {
          "base_uri": "https://localhost:8080/"
        },
        "outputId": "28d1baa6-4072-4a6f-cb34-91586e523ef0"
      },
      "execution_count": null,
      "outputs": [
        {
          "output_type": "stream",
          "name": "stdout",
          "text": [
            "\u001b[1m24.Reverse a numpy array\n",
            "\u001b[0m\n",
            "Array: \n",
            " [0 1 2 3 4 5] \n",
            "Array reverso: \n",
            " [5 4 3 2 1 0]\n"
          ]
        }
      ]
    },
    {
      "cell_type": "code",
      "source": [
        "# 25.How to make a NumPy array read-only?\n",
        "print('\\033[1m' + \"25.How to make a NumPy array read-only?\\n\" + '\\033[0m')\n",
        "\n",
        "array = np.arange(6)\n",
        "array.setflags(write=False)\n",
        "\n",
        "array[0] = 10"
      ],
      "metadata": {
        "id": "sWDWygw8uH11",
        "colab": {
          "base_uri": "https://localhost:8080/",
          "height": 235
        },
        "outputId": "eecd821f-321d-4f8d-8621-2811f7f0a66a"
      },
      "execution_count": null,
      "outputs": [
        {
          "output_type": "stream",
          "name": "stdout",
          "text": [
            "\u001b[1m25.How to make a NumPy array read-only?\n",
            "\u001b[0m\n"
          ]
        },
        {
          "output_type": "error",
          "ename": "ValueError",
          "evalue": "ignored",
          "traceback": [
            "\u001b[0;31m---------------------------------------------------------------------------\u001b[0m",
            "\u001b[0;31mValueError\u001b[0m                                Traceback (most recent call last)",
            "\u001b[0;32m<ipython-input-25-834a6111a991>\u001b[0m in \u001b[0;36m<module>\u001b[0;34m\u001b[0m\n\u001b[1;32m      5\u001b[0m \u001b[0marray\u001b[0m\u001b[0;34m.\u001b[0m\u001b[0msetflags\u001b[0m\u001b[0;34m(\u001b[0m\u001b[0mwrite\u001b[0m\u001b[0;34m=\u001b[0m\u001b[0;32mFalse\u001b[0m\u001b[0;34m)\u001b[0m\u001b[0;34m\u001b[0m\u001b[0;34m\u001b[0m\u001b[0m\n\u001b[1;32m      6\u001b[0m \u001b[0;34m\u001b[0m\u001b[0m\n\u001b[0;32m----> 7\u001b[0;31m \u001b[0marray\u001b[0m\u001b[0;34m[\u001b[0m\u001b[0;36m0\u001b[0m\u001b[0;34m]\u001b[0m \u001b[0;34m=\u001b[0m \u001b[0;36m10\u001b[0m\u001b[0;34m\u001b[0m\u001b[0;34m\u001b[0m\u001b[0m\n\u001b[0m",
            "\u001b[0;31mValueError\u001b[0m: assignment destination is read-only"
          ]
        }
      ]
    },
    {
      "cell_type": "markdown",
      "metadata": {
        "id": "zMLVcfspXQrg"
      },
      "source": [
        "#**Questions on NumPy Matrix**"
      ]
    },
    {
      "cell_type": "code",
      "execution_count": null,
      "metadata": {
        "id": "aP--JjhWRnSe",
        "colab": {
          "base_uri": "https://localhost:8080/"
        },
        "outputId": "48bd480a-389b-4a5b-8965-34d6223414f2"
      },
      "outputs": [
        {
          "output_type": "stream",
          "name": "stdout",
          "text": [
            "\u001b[1m1.Get the maximum value from given matrix\n",
            "\u001b[0m\n",
            "Matrix: \n",
            " [[0 1 2]\n",
            " [3 4 5]] \n",
            "Maximum value: \n",
            " 5\n"
          ]
        }
      ],
      "source": [
        "# 1.Get the maximum value from given matrix\n",
        "print('\\033[1m' + \"1.Get the maximum value from given matrix\\n\" + '\\033[0m')\n",
        "\n",
        "matrix = np.matrix(np.arange(6).reshape(2, 3))\n",
        "\n",
        "print(\"Matrix: \\n\", matrix, \"\\nMaximum value: \\n\", matrix.max())"
      ]
    },
    {
      "cell_type": "code",
      "source": [
        "# 2.Get the minimum value from given matrix\n",
        "print('\\033[1m' + \"2.Get the minimum value from given matrix\\n\" + '\\033[0m')\n",
        "\n",
        "matrix = np.matrix(np.arange(6).reshape(2, 3))\n",
        "\n",
        "print(\"Matrix: \\n\", matrix, \"\\nMinimum value: \\n\", matrix.min())"
      ],
      "metadata": {
        "colab": {
          "base_uri": "https://localhost:8080/"
        },
        "id": "Z5UAM4I6XjMb",
        "outputId": "aa766373-753a-4b1d-f182-f853cb523aea"
      },
      "execution_count": null,
      "outputs": [
        {
          "output_type": "stream",
          "name": "stdout",
          "text": [
            "\u001b[1m2.Get the minimum value from given matrix\n",
            "\u001b[0m\n",
            "Matrix: \n",
            " [[0 1 2]\n",
            " [3 4 5]] \n",
            "Minimum value: \n",
            " 0\n"
          ]
        }
      ]
    },
    {
      "cell_type": "code",
      "source": [
        "# 3.Find the number of rows and columns of a given matrix using NumPy\n",
        "print('\\033[1m' + \"3.Find the number of rows and columns of a given matrix using NumPy\\n\" + '\\033[0m')\n",
        "\n",
        "matrix = np.matrix(np.arange(6).reshape(2, 3))\n",
        "\n",
        "print(\"Matrix: \\n\", matrix, \"\\nNumber of rows and columns: \\n\", matrix.shape)"
      ],
      "metadata": {
        "colab": {
          "base_uri": "https://localhost:8080/"
        },
        "id": "ZGOnOn0TXlH1",
        "outputId": "303d79ba-d004-44cf-b697-90839d083d52"
      },
      "execution_count": null,
      "outputs": [
        {
          "output_type": "stream",
          "name": "stdout",
          "text": [
            "\u001b[1m3.Find the number of rows and columns of a given matrix using NumPy\n",
            "\u001b[0m\n",
            "Matrix: \n",
            " [[0 1 2]\n",
            " [3 4 5]] \n",
            "Number of rows and columns: \n",
            " (2, 3)\n"
          ]
        }
      ]
    },
    {
      "cell_type": "code",
      "source": [
        "# 4.Select the elements from a given matrix\n",
        "print('\\033[1m' + \"4.Select the elements from a given matrix\\n\" + '\\033[0m')\n",
        "\n",
        "matrix = np.matrix(np.arange(6).reshape(2, 3))\n",
        "\n",
        "print(\"Matrix: \\n\", matrix, \"\\nSelected elements: \\n\", np.choose([1, 0, 1], matrix))"
      ],
      "metadata": {
        "colab": {
          "base_uri": "https://localhost:8080/"
        },
        "id": "P0OXT6_GXmPl",
        "outputId": "415568f4-447c-4720-a6e3-fc99f4ea41e8"
      },
      "execution_count": null,
      "outputs": [
        {
          "output_type": "stream",
          "name": "stdout",
          "text": [
            "\u001b[1m4.Select the elements from a given matrix\n",
            "\u001b[0m\n",
            "Matrix: \n",
            " [[0 1 2]\n",
            " [3 4 5]] \n",
            "Selected elements: \n",
            " [[3 1 5]]\n"
          ]
        }
      ]
    },
    {
      "cell_type": "code",
      "source": [
        "# 5.Find the sum of values in a matrix\n",
        "print('\\033[1m' + \"5.Find the sum of values in a matrix\\n\" + '\\033[0m')\n",
        "\n",
        "matrix = np.matrix(np.arange(6).reshape(2, 3))\n",
        "\n",
        "print(\"Matrix: \\n\", matrix, \"\\nSum of values: \\n\", matrix.sum())"
      ],
      "metadata": {
        "colab": {
          "base_uri": "https://localhost:8080/"
        },
        "id": "WrR8O25zXnHi",
        "outputId": "7d9dc26e-a458-46ed-d109-1b45f35db9cf"
      },
      "execution_count": null,
      "outputs": [
        {
          "output_type": "stream",
          "name": "stdout",
          "text": [
            "\u001b[1m5.Find the sum of values in a matrix\n",
            "\u001b[0m\n",
            "Matrix: \n",
            " [[0 1 2]\n",
            " [3 4 5]] \n",
            "Sum of values: \n",
            " 15\n"
          ]
        }
      ]
    },
    {
      "cell_type": "code",
      "source": [
        "# 6.Calculate the sum of the diagonal elements of a NumPy array\n",
        "print('\\033[1m' + \"6.Calculate the sum of the diagonal elements of a NumPy array\\n\" + '\\033[0m')\n",
        "\n",
        "matrix = np.matrix(np.arange(9).reshape(3, 3))\n",
        "\n",
        "print(\"Matrix: \\n\", matrix, \"\\nSum of the diagonal elements: \\n\", np.trace(matrix))"
      ],
      "metadata": {
        "colab": {
          "base_uri": "https://localhost:8080/"
        },
        "id": "VVSNsI1dXoIP",
        "outputId": "350dbf34-7070-4b18-c29f-a553887d1f89"
      },
      "execution_count": null,
      "outputs": [
        {
          "output_type": "stream",
          "name": "stdout",
          "text": [
            "\u001b[1m6.Calculate the sum of the diagonal elements of a NumPy array\n",
            "\u001b[0m\n",
            "Matrix: \n",
            " [[0 1 2]\n",
            " [3 4 5]\n",
            " [6 7 8]] \n",
            "Sum of the diagonal elements: \n",
            " 12\n"
          ]
        }
      ]
    },
    {
      "cell_type": "code",
      "source": [
        "# 7.Adding and Subtracting Matrices in Python\n",
        "print('\\033[1m' + \"7.Adding and Subtracting Matrices in Python\\n\" + '\\033[0m')\n",
        "\n",
        "matrix1 = np.matrix(np.arange(9).reshape(3, 3))\n",
        "matrix2 = np.matrix(np.ones((3, 3)).astype('int32'))\n",
        "\n",
        "print(\"Matrix 1: \\n\", matrix1)\n",
        "print(\"Matrix 2: \\n\", matrix2)\n",
        "print(\"\\nAdding: \\n\", matrix1 + matrix2)\n",
        "print(\"\\nSubtracting: \\n\", matrix1 - matrix2)"
      ],
      "metadata": {
        "colab": {
          "base_uri": "https://localhost:8080/"
        },
        "id": "VqpWKcXGXo7S",
        "outputId": "18088c46-7761-4382-8b8c-927e929eeda8"
      },
      "execution_count": null,
      "outputs": [
        {
          "output_type": "stream",
          "name": "stdout",
          "text": [
            "\u001b[1m7.Adding and Subtracting Matrices in Python\n",
            "\u001b[0m\n",
            "Matrix 1: \n",
            " [[0 1 2]\n",
            " [3 4 5]\n",
            " [6 7 8]]\n",
            "Matrix 2: \n",
            " [[1 1 1]\n",
            " [1 1 1]\n",
            " [1 1 1]]\n",
            "\n",
            "Adding: \n",
            " [[1 2 3]\n",
            " [4 5 6]\n",
            " [7 8 9]]\n",
            "\n",
            "Subtracting: \n",
            " [[-1  0  1]\n",
            " [ 2  3  4]\n",
            " [ 5  6  7]]\n"
          ]
        }
      ]
    },
    {
      "cell_type": "code",
      "source": [
        "# 8.Ways to add row/columns in numpy array\n",
        "print('\\033[1m' + \"8.Ways to add row/columns in numpy array\\n\" + '\\033[0m')\n",
        "\n",
        "matrix = np.matrix(np.arange(9).reshape(3, 3))\n",
        "\n",
        "row = np.array([1, 2, 3])\n",
        "col = np.array([[1], [2], [3]])\n",
        "\n",
        "print(\"Matrix: \\n\", matrix)\n",
        "print(\"row: \\n\", row)\n",
        "print(\"col: \\n\", col)\n",
        "print(\"\\nMatrix with added row: \\n\", np.r_[matrix, [row]])\n",
        "print(\"\\nMatrix with added col: \\n\", np.c_[matrix, col])"
      ],
      "metadata": {
        "colab": {
          "base_uri": "https://localhost:8080/"
        },
        "id": "J2manrK7XqEx",
        "outputId": "d9bf22c9-c2bf-480b-ddea-bc8bb60ef2ef"
      },
      "execution_count": null,
      "outputs": [
        {
          "output_type": "stream",
          "name": "stdout",
          "text": [
            "\u001b[1m8.Ways to add row/columns in numpy array\n",
            "\u001b[0m\n",
            "Matrix: \n",
            " [[0 1 2]\n",
            " [3 4 5]\n",
            " [6 7 8]]\n",
            "row: \n",
            " [1 2 3]\n",
            "col: \n",
            " [[1]\n",
            " [2]\n",
            " [3]]\n",
            "\n",
            "Matrix with added row: \n",
            " [[0 1 2]\n",
            " [3 4 5]\n",
            " [6 7 8]\n",
            " [1 2 3]]\n",
            "\n",
            "Matrix with added col: \n",
            " [[0 1 2 1]\n",
            " [3 4 5 2]\n",
            " [6 7 8 3]]\n"
          ]
        }
      ]
    },
    {
      "cell_type": "code",
      "source": [
        "# 9.Matrix Multiplication in NumPy\n",
        "print('\\033[1m' + \"9.Matrix Multiplication in NumPy\\n\" + '\\033[0m')\n",
        "\n",
        "matrix1 = np.matrix([[1, 2],\n",
        "                     [3, 4]])\n",
        "matrix2 = np.matrix([[1, 2],\n",
        "                     [1, 2]])\n",
        "print(\"Matrix Multiplication: \\n\", np.matmul(matrix1, matrix2))"
      ],
      "metadata": {
        "colab": {
          "base_uri": "https://localhost:8080/"
        },
        "id": "ouhJ05PRXrVp",
        "outputId": "40e9340b-5aa8-421b-89f2-0124043a2a0d"
      },
      "execution_count": null,
      "outputs": [
        {
          "output_type": "stream",
          "name": "stdout",
          "text": [
            "\u001b[1m9.Matrix Multiplication in NumPy\n",
            "\u001b[0m\n",
            "Matrix Multiplication: \n",
            " [[ 3  6]\n",
            " [ 7 14]]\n"
          ]
        }
      ]
    },
    {
      "cell_type": "code",
      "source": [
        "# 10.Get the eigen values of a matrix\n",
        "print('\\033[1m' + \"10.Get the eigen values of a matrix\\n\" + '\\033[0m')\n",
        "matrix = np.matrix([[1, 2],\n",
        "                    [3, 4]])\n",
        "eigenValues, _ = np.linalg.eig(matrix)\n",
        "print(\"Eigen Values: \", eigenValues)"
      ],
      "metadata": {
        "colab": {
          "base_uri": "https://localhost:8080/"
        },
        "id": "L1WGHjjBXsZr",
        "outputId": "73066125-e1a1-4153-bf3f-8fb30ac4bc75"
      },
      "execution_count": null,
      "outputs": [
        {
          "output_type": "stream",
          "name": "stdout",
          "text": [
            "\u001b[1m10.Get the eigen values of a matrix\n",
            "\u001b[0m\n",
            "Eigen Values:  [-0.37228132  5.37228132]\n"
          ]
        }
      ]
    },
    {
      "cell_type": "code",
      "source": [
        "# 11.How to Calculate the determinant of a matrix using NumPy?\n",
        "print('\\033[1m' + \"11.How to Calculate the determinant of a matrix using NumPy?\\n\" + '\\033[0m')\n",
        "matrix = np.matrix([[1, 2],\n",
        "                    [3, 4]])\n",
        "\n",
        "det = np.linalg.det(matrix)\n",
        "\n",
        "print(\"Determinante: \", det)"
      ],
      "metadata": {
        "colab": {
          "base_uri": "https://localhost:8080/"
        },
        "id": "-jcV8MyLXtqM",
        "outputId": "26d75400-a757-4510-856c-054e9c366977"
      },
      "execution_count": null,
      "outputs": [
        {
          "output_type": "stream",
          "name": "stdout",
          "text": [
            "\u001b[1m11.How to Calculate the determinant of a matrix using NumPy?\n",
            "\u001b[0m\n",
            "Determinante:  -2.0000000000000004\n"
          ]
        }
      ]
    },
    {
      "cell_type": "code",
      "source": [
        "# 12.How to inverse a matrix using NumPy\n",
        "print('\\033[1m' + \"12.How to inverse a matrix using NumPy\\n\" + '\\033[0m')\n",
        "\n",
        "matrix = np.matrix([[1, 2],\n",
        "                    [3, 4]])\n",
        "\n",
        "inverseMatrix = np.linalg.inv(matrix)\n",
        "\n",
        "print(\"Inverse Matrix: \\n\", inverseMatrix)"
      ],
      "metadata": {
        "colab": {
          "base_uri": "https://localhost:8080/"
        },
        "id": "Y_8skaGHXuxS",
        "outputId": "063f1567-270b-4968-b653-23e3fb0b020c"
      },
      "execution_count": null,
      "outputs": [
        {
          "output_type": "stream",
          "name": "stdout",
          "text": [
            "\u001b[1m12.How to inverse a matrix using NumPy\n",
            "\u001b[0m\n",
            "Inverse Matrix: \n",
            " [[-2.   1. ]\n",
            " [ 1.5 -0.5]]\n"
          ]
        }
      ]
    },
    {
      "cell_type": "code",
      "source": [
        "# 13.How to count the frequency of unique values in NumPy array?\n",
        "print('\\033[1m' + \"13.How to count the frequency of unique values in NumPy array?\\n\" + '\\033[0m')\n",
        "\n",
        "array = np.array([1, 2, 3, 4, 3, 4])\n",
        "  \n",
        "uniqueValues, frequency = np.unique(array, return_counts = True)\n",
        "\n",
        "print(\"Unique Values: \", uniqueValues)\n",
        "\n",
        "print(\"Frequency Values: \", frequency)"
      ],
      "metadata": {
        "colab": {
          "base_uri": "https://localhost:8080/"
        },
        "id": "PhhAAID7Xwfu",
        "outputId": "984f0a3f-6003-46e5-faef-e46f8702849f"
      },
      "execution_count": null,
      "outputs": [
        {
          "output_type": "stream",
          "name": "stdout",
          "text": [
            "\u001b[1m13.How to count the frequency of unique values in NumPy array?\n",
            "\u001b[0m\n",
            "Unique Values:  [1 2 3 4]\n",
            "Frequency Values:  [1 1 2 2]\n"
          ]
        }
      ]
    },
    {
      "cell_type": "code",
      "source": [
        "# 14.Multiply matrices of complex numbers using NumPy in Python\n",
        "print('\\033[1m' + \"14.Multiply matrices of complex numbers using NumPy in Python\\n\" + '\\033[0m')\n",
        "\n",
        "matrix1 = np.array([1+2j,3+4j])\n",
        "matrix2 = np.array([5+6j,7+8j])\n",
        "\n",
        "print(\"Matrix 1: \\n\", matrix1)\n",
        "print(\"Matrix 2: \\n\", matrix2)\n",
        "\n",
        "Multiplication = np.vdot(matrix1, matrix2)\n",
        "print(\"Multiplication: \\n\", Multiplication)"
      ],
      "metadata": {
        "colab": {
          "base_uri": "https://localhost:8080/"
        },
        "id": "O7q2UGnYXxgk",
        "outputId": "37940a24-fb9f-4bb8-be2e-fe591484af29"
      },
      "execution_count": null,
      "outputs": [
        {
          "output_type": "stream",
          "name": "stdout",
          "text": [
            "\u001b[1m14.Multiply matrices of complex numbers using NumPy in Python\n",
            "\u001b[0m\n",
            "Matrix 1: \n",
            " [1.+2.j 3.+4.j]\n",
            "Matrix 2: \n",
            " [5.+6.j 7.+8.j]\n",
            "Multiplication: \n",
            " (70-8j)\n"
          ]
        }
      ]
    },
    {
      "cell_type": "code",
      "source": [
        "# 15.Compute the outer product of two given vectors using NumPy in Python\n",
        "print('\\033[1m' + \"15.Compute the outer product of two given vectors using NumPy in Python\\n\" + '\\033[0m')\n",
        "\n",
        "array1 = np.array([1, 2])\n",
        "array2 = np.array([3, 4])\n",
        "\n",
        "print(\"Outer product: \\n\", np.outer(array1, array2))"
      ],
      "metadata": {
        "colab": {
          "base_uri": "https://localhost:8080/"
        },
        "id": "eytsIBi6Xytb",
        "outputId": "e6c9a703-8c6f-4696-fdae-a5028d189f18"
      },
      "execution_count": null,
      "outputs": [
        {
          "output_type": "stream",
          "name": "stdout",
          "text": [
            "\u001b[1m15.Compute the outer product of two given vectors using NumPy in Python\n",
            "\u001b[0m\n",
            "Outer product: \n",
            " [[3 4]\n",
            " [6 8]]\n"
          ]
        }
      ]
    },
    {
      "cell_type": "code",
      "source": [
        "# 16.Calculate inner, outer, and cross products of matrices and vectors using NumPy\n",
        "print('\\033[1m' + \"16.Calculate inner, outer, and cross products of matrices and vectors using NumPy\\n\" + '\\033[0m')\n",
        "\n",
        "array1 = np.array([1, 2])\n",
        "array2 = np.array([3, 4])\n",
        "\n",
        "print(\"Vector: \\n\")\n",
        "\n",
        "print(\"Outer product: \\n\", np.outer(array1, array2))\n",
        "\n",
        "print(\"Inner product: \\n\", np.outer(array1, array2))\n",
        "\n",
        "print(\"Cross product: \\n\", np.cross(array1, array2))\n",
        "\n",
        "matrix1 = np.matrix([[1, 2, 3], \n",
        "                    [4, 5, 6]])\n",
        "matrix2 = np.matrix([[7, 8, 9], \n",
        "                    [10, 11, 12]])\n",
        "\n",
        "print(\"\\nMatrices: \\n\")\n",
        "\n",
        "print(\"Outer product: \\n\", np.outer(matrix1, matrix2))\n",
        "\n",
        "print(\"Inner product: \\n\", np.outer(matrix1, matrix2))\n",
        "\n",
        "print(\"Cross product: \\n\", np.cross(matrix1, matrix2))"
      ],
      "metadata": {
        "colab": {
          "base_uri": "https://localhost:8080/"
        },
        "id": "mXaTLO67Xz1F",
        "outputId": "825be7a1-5074-4979-a629-39ea3c8e6842"
      },
      "execution_count": null,
      "outputs": [
        {
          "output_type": "stream",
          "name": "stdout",
          "text": [
            "\u001b[1m16.Calculate inner, outer, and cross products of matrices and vectors using NumPy\n",
            "\u001b[0m\n",
            "Vector: \n",
            "\n",
            "Outer product: \n",
            " [[3 4]\n",
            " [6 8]]\n",
            "Inner product: \n",
            " [[3 4]\n",
            " [6 8]]\n",
            "Cross product: \n",
            " -2\n",
            "\n",
            "Matrices: \n",
            "\n",
            "Outer product: \n",
            " [[ 7  8  9 10 11 12]\n",
            " [14 16 18 20 22 24]\n",
            " [21 24 27 30 33 36]\n",
            " [28 32 36 40 44 48]\n",
            " [35 40 45 50 55 60]\n",
            " [42 48 54 60 66 72]]\n",
            "Inner product: \n",
            " [[ 7  8  9 10 11 12]\n",
            " [14 16 18 20 22 24]\n",
            " [21 24 27 30 33 36]\n",
            " [28 32 36 40 44 48]\n",
            " [35 40 45 50 55 60]\n",
            " [42 48 54 60 66 72]]\n",
            "Cross product: \n",
            " [[-6 12 -6]\n",
            " [-6 12 -6]]\n"
          ]
        }
      ]
    },
    {
      "cell_type": "code",
      "source": [
        "# 17.Compute the covariance matrix of two given NumPy arrays\n",
        "print('\\033[1m' + \"17.Compute the covariance matrix of two given NumPy arrays\\n\" + '\\033[0m')\n",
        "\n",
        "array1 = np.arange(6)\n",
        "array2 = np.flip(array1)\n",
        "\n",
        "print(np.cov(array1, array2))"
      ],
      "metadata": {
        "colab": {
          "base_uri": "https://localhost:8080/"
        },
        "id": "TpcsfZwHX0xg",
        "outputId": "41641f04-bf4d-4433-fc51-dd331b4fd6a5"
      },
      "execution_count": null,
      "outputs": [
        {
          "output_type": "stream",
          "name": "stdout",
          "text": [
            "\u001b[1m17.Compute the covariance matrix of two given NumPy arrays\n",
            "\u001b[0m\n",
            "[[ 3.5 -3.5]\n",
            " [-3.5  3.5]]\n"
          ]
        }
      ]
    },
    {
      "cell_type": "code",
      "source": [
        "# 18.Convert covariance matrix to correlation matrix using Python\n",
        "print('\\033[1m' + \"18.Convert covariance matrix to correlation matrix using Python\\n\" + '\\033[0m')\n",
        "\n",
        "rng = np.random.default_rng(seed=42)\n",
        "array = rng.random((3, 3))\n",
        "\n",
        "np.corrcoef(array, rowvar=False)"
      ],
      "metadata": {
        "colab": {
          "base_uri": "https://localhost:8080/"
        },
        "id": "7gG4rtFlX1pc",
        "outputId": "1ee28f4a-00a6-46be-af26-dc70e94b2ab5"
      },
      "execution_count": null,
      "outputs": [
        {
          "output_type": "stream",
          "name": "stdout",
          "text": [
            "\u001b[1m18.Convert covariance matrix to correlation matrix using Python\n",
            "\u001b[0m\n"
          ]
        },
        {
          "output_type": "execute_result",
          "data": {
            "text/plain": [
              "array([[ 1.        ,  0.77598074, -0.47458546],\n",
              "       [ 0.77598074,  1.        , -0.92346708],\n",
              "       [-0.47458546, -0.92346708,  1.        ]])"
            ]
          },
          "metadata": {},
          "execution_count": 122
        }
      ]
    },
    {
      "cell_type": "code",
      "source": [
        "# 19.Compute the Kronecker product of two mulitdimension NumPy arrays\n",
        "print('\\033[1m' + \"19.Compute the Kronecker product of two mulitdimension NumPy arrays\\n\" + '\\033[0m')\n",
        "# Creating arrays\n",
        "array1 = np.array([[1, 2], \n",
        "                   [3, 4]])\n",
        " \n",
        "array2 = np.array([[5, 6], \n",
        "                   [7, 8]])\n",
        "\n",
        "kroneckerProduct = np.kron(array1, array2)\n",
        "print(\"Kronecker Product: \\n\", kroneckerProduct)"
      ],
      "metadata": {
        "colab": {
          "base_uri": "https://localhost:8080/"
        },
        "id": "8sAwW_dLX2VV",
        "outputId": "8b00f80d-0977-46af-d0df-3b335661435e"
      },
      "execution_count": null,
      "outputs": [
        {
          "output_type": "stream",
          "name": "stdout",
          "text": [
            "\u001b[1m19.Compute the Kronecker product of two mulitdimension NumPy arrays\n",
            "\u001b[0m\n",
            "Kronecker Product: \n",
            " [[ 5  6 10 12]\n",
            " [ 7  8 14 16]\n",
            " [15 18 20 24]\n",
            " [21 24 28 32]]\n"
          ]
        }
      ]
    },
    {
      "cell_type": "code",
      "source": [
        "# 20.Convert the matrix into a list\n",
        "print('\\033[1m' + \"20.Convert the matrix into a list\\n\" + '\\033[0m')\n",
        "\n",
        "matrix = np.matrix([[1, 2], \n",
        "                   [3, 4]])\n",
        "\n",
        "print(\"Lista: \\n\", matrix.tolist())"
      ],
      "metadata": {
        "colab": {
          "base_uri": "https://localhost:8080/"
        },
        "id": "IqTniWfJX3Rw",
        "outputId": "e0384f58-c616-427a-89b6-c78cae78eb3e"
      },
      "execution_count": null,
      "outputs": [
        {
          "output_type": "stream",
          "name": "stdout",
          "text": [
            "\u001b[1m20.Convert the matrix into a list\n",
            "\u001b[0m\n",
            "Lista: \n",
            " [[1, 2], [3, 4]]\n"
          ]
        }
      ]
    },
    {
      "cell_type": "markdown",
      "metadata": {
        "id": "7puNL9YFXSxk"
      },
      "source": [
        "#**Questions on NumPy Indexing**"
      ]
    },
    {
      "cell_type": "code",
      "execution_count": null,
      "metadata": {
        "id": "Qda2nW98XTGQ",
        "colab": {
          "base_uri": "https://localhost:8080/"
        },
        "outputId": "e50ccca6-5cf8-4508-8749-0b46dee83bbc"
      },
      "outputs": [
        {
          "output_type": "stream",
          "name": "stdout",
          "text": [
            "\u001b[1m1.Replace NumPy array elements that doesn’t satisfy the given condition\n",
            "\u001b[0m\n",
            "Replaced Array: \n",
            " [[1 2]\n",
            " [0 0]]\n"
          ]
        }
      ],
      "source": [
        "# 1.Replace NumPy array elements that doesn’t satisfy the given condition\n",
        "print('\\033[1m' + \"1.Replace NumPy array elements that doesn’t satisfy the given condition\\n\" + '\\033[0m')\n",
        "\n",
        "array = np.array([[1, 2],\n",
        "                  [3, 4]])\n",
        "array[array >= 3] = 0\n",
        "print(\"Replaced Array: \\n\", array)"
      ]
    },
    {
      "cell_type": "code",
      "source": [
        "# 2.Return the indices of elements where the given condition is satisfied\n",
        "print('\\033[1m' + \"2.Return the indices of elements where the given condition is satisfied\\n\" + '\\033[0m')\n",
        "\n",
        "array = np.array([[1, 2],\n",
        "                  [3, 4]])\n",
        "\n",
        "indices = np.where(array >= 3)\n",
        "\n",
        "print(\"Indices: \\n\", indices)"
      ],
      "metadata": {
        "colab": {
          "base_uri": "https://localhost:8080/"
        },
        "id": "oBhiNIjfX6Rd",
        "outputId": "4907848d-74b4-42c9-9d79-7c18191bc3aa"
      },
      "execution_count": null,
      "outputs": [
        {
          "output_type": "stream",
          "name": "stdout",
          "text": [
            "\u001b[1m2.Return the indices of elements where the given condition is satisfied\n",
            "\u001b[0m\n",
            "Indices: \n",
            " (array([1, 1]), array([0, 1]))\n"
          ]
        }
      ]
    },
    {
      "cell_type": "code",
      "source": [
        "# 3.Replace NaN values with average of columns\n",
        "print('\\033[1m' + \"3.Replace NaN values with average of columns\\n\" + '\\033[0m')\n",
        "\n",
        "array = np.array([[1, np.nan],\n",
        "                  [3, 4]])\n",
        "\n",
        "# Pega a média da coluna\n",
        "colMean = np.nanmean(array, axis=0)\n",
        "\n",
        "# Pega os índices com NaN\n",
        "indices = np.where(np.isnan(array))\n",
        "\n",
        "# Insere a média da coluna onde tem NaN\n",
        "array[indices] = np.take(colMean, indices[1])\n",
        "\n",
        "print(\"Replaced Array: \\n\", array)"
      ],
      "metadata": {
        "colab": {
          "base_uri": "https://localhost:8080/"
        },
        "id": "WjkHpzaeX7K-",
        "outputId": "706186eb-070b-4d04-da40-b96b74fc37fd"
      },
      "execution_count": null,
      "outputs": [
        {
          "output_type": "stream",
          "name": "stdout",
          "text": [
            "\u001b[1m3.Replace NaN values with average of columns\n",
            "\u001b[0m\n",
            "Replaced Array: \n",
            " [[1. 4.]\n",
            " [3. 4.]]\n"
          ]
        }
      ]
    },
    {
      "cell_type": "code",
      "source": [
        "# 4.Replace negative value with zero in numpy array\n",
        "print('\\033[1m' + \"4.Replace negative value with zero in numpy array\\n\" + '\\033[0m')\n",
        "\n",
        "array = np.array([[1, -2],\n",
        "                  [-3, 4]])\n",
        "\n",
        "array[array < 0] = 0\n",
        "\n",
        "print(\"Replaced Array: \\n\", array)"
      ],
      "metadata": {
        "colab": {
          "base_uri": "https://localhost:8080/"
        },
        "id": "iMJICYaNX8BC",
        "outputId": "6aa78cf9-8f65-4220-9478-8fec4175f4e5"
      },
      "execution_count": null,
      "outputs": [
        {
          "output_type": "stream",
          "name": "stdout",
          "text": [
            "\u001b[1m4.Replace negative value with zero in numpy array\n",
            "\u001b[0m\n",
            "Replaced Array: \n",
            " [[1 0]\n",
            " [0 4]]\n"
          ]
        }
      ]
    },
    {
      "cell_type": "code",
      "source": [
        "# 5.How to get values of an NumPy array at certain index positions?\n",
        "print('\\033[1m' + \"5.How to get values of an NumPy array at certain index positions?\\n\" + '\\033[0m')\n",
        "\n",
        "array = np.array([1, 2, 3, 4, 5, 6, 7])\n",
        "\n",
        "print(\"Values in certain index positions: \\n\", array[[0, 4, 6]])"
      ],
      "metadata": {
        "colab": {
          "base_uri": "https://localhost:8080/"
        },
        "id": "w0TE_UQvX9DN",
        "outputId": "77c4bd1d-3685-4c55-ef2a-23197e1d6eb2"
      },
      "execution_count": null,
      "outputs": [
        {
          "output_type": "stream",
          "name": "stdout",
          "text": [
            "\u001b[1m5.How to get values of an NumPy array at certain index positions?\n",
            "\u001b[0m\n",
            "Values in certain index positions: \n",
            " [1 5 7]\n"
          ]
        }
      ]
    },
    {
      "cell_type": "code",
      "source": [
        "# 6.Find indices of elements equal to zero in a NumPy array\n",
        "print('\\033[1m' + \"6.Find indices of elements equal to zero in a NumPy array\\n\" + '\\033[0m')\n",
        "\n",
        "array = np.array([1, 2, 0, 4, 5, 0, 7])\n",
        "\n",
        "print(\"Indices of elements equal to zero: \\n\", np.where(array == 0))"
      ],
      "metadata": {
        "colab": {
          "base_uri": "https://localhost:8080/"
        },
        "id": "nYMOw9gSX-Hy",
        "outputId": "c3397f0e-0812-4b6c-b492-9ee43b8d87d1"
      },
      "execution_count": null,
      "outputs": [
        {
          "output_type": "stream",
          "name": "stdout",
          "text": [
            "\u001b[1m6.Find indices of elements equal to zero in a NumPy array\n",
            "\u001b[0m\n",
            "Indices of elements equal to zero: \n",
            " (array([2, 5]),)\n"
          ]
        }
      ]
    },
    {
      "cell_type": "code",
      "source": [
        "# 7.How to Remove columns in Numpy array that contains non-numeric values?\n",
        "print('\\033[1m' + \"7.How to Remove columns in Numpy array that contains non-numeric values?\\n\" + '\\033[0m')\n",
        "array = np.array([[1, np.nan],\n",
        "                  [3, 4]])\n",
        "\n",
        "print(\"\", array[:, ~np.isnan(array).any(axis=0)])"
      ],
      "metadata": {
        "colab": {
          "base_uri": "https://localhost:8080/"
        },
        "id": "AMc30tJAX-9y",
        "outputId": "d12e3bc1-33e1-4073-984b-5367cd548b38"
      },
      "execution_count": null,
      "outputs": [
        {
          "output_type": "stream",
          "name": "stdout",
          "text": [
            "\u001b[1m7.How to Remove columns in Numpy array that contains non-numeric values?\n",
            "\u001b[0m\n",
            "[[1.]\n",
            " [3.]]\n"
          ]
        }
      ]
    },
    {
      "cell_type": "code",
      "source": [
        "# 8.How to access different rows of a multidimensional NumPy array?\n",
        "print('\\033[1m' + \"8.How to access different rows of a multidimensional NumPy array?\\n\" + '\\033[0m')\n",
        "\n",
        "array = np.array([[1, np.nan],\n",
        "                  [3, 4],\n",
        "                  [5, 6]])\n",
        "print(\"Different rows: \\n\", array[[1,2]])"
      ],
      "metadata": {
        "colab": {
          "base_uri": "https://localhost:8080/"
        },
        "id": "ELQ6ucqpX_zs",
        "outputId": "1c1bf6ce-fddf-4cec-93e1-aefc632649f6"
      },
      "execution_count": null,
      "outputs": [
        {
          "output_type": "stream",
          "name": "stdout",
          "text": [
            "\u001b[1m8.How to access different rows of a multidimensional NumPy array?\n",
            "\u001b[0m\n",
            "Different rows: \n",
            " [[3. 4.]\n",
            " [5. 6.]]\n"
          ]
        }
      ]
    },
    {
      "cell_type": "code",
      "source": [
        "# 9.Get row numbers of NumPy array having element larger than X\n",
        "print('\\033[1m' + \"9.Get row numbers of NumPy array having element larger than X\\n\" + '\\033[0m')\n",
        "\n",
        "array = np.array([[1, 2],\n",
        "                  [3, 4],\n",
        "                  [5, 6]])\n",
        "\n",
        "X = 4\n",
        "\n",
        "output  = np.where(np.any(array > X, axis = 1))\n",
        "\n",
        "print(\"Result:\\n\", output)"
      ],
      "metadata": {
        "colab": {
          "base_uri": "https://localhost:8080/"
        },
        "id": "fIZ8Pcr4YAnX",
        "outputId": "6978e26d-46c3-45e3-bbee-e8a9f66b42ed"
      },
      "execution_count": null,
      "outputs": [
        {
          "output_type": "stream",
          "name": "stdout",
          "text": [
            "\u001b[1m9.Get row numbers of NumPy array having element larger than X\n",
            "\u001b[0m\n",
            "Result:\n",
            " (array([2]),)\n"
          ]
        }
      ]
    },
    {
      "cell_type": "code",
      "source": [
        "# 10.Get filled the diagonals of NumPy array\n",
        "print('\\033[1m' + \"10.Get filled the diagonals of NumPy array\\n\" + '\\033[0m')\n",
        "\n",
        "array = np.arange(3 * 3).reshape(3, 3)\n",
        "np.fill_diagonal(array, -1)\n",
        "print(array)"
      ],
      "metadata": {
        "colab": {
          "base_uri": "https://localhost:8080/"
        },
        "id": "e76BFGIQYBgU",
        "outputId": "9aaabef9-3aa7-4250-f438-613b44e29a9d"
      },
      "execution_count": null,
      "outputs": [
        {
          "output_type": "stream",
          "name": "stdout",
          "text": [
            "\u001b[1m10.Get filled the diagonals of NumPy array\n",
            "\u001b[0m\n",
            "[[-1  1  2]\n",
            " [ 3 -1  5]\n",
            " [ 6  7 -1]]\n"
          ]
        }
      ]
    },
    {
      "cell_type": "code",
      "source": [
        "# 11.Check elements present in the NumPy array\n",
        "print('\\033[1m' + \"11.Check elements present in the NumPy array\\n\" + '\\033[0m')\n",
        "\n",
        "array = np.arange(1, 7).reshape(2, 3)\n",
        "value = 6\n",
        "\n",
        "if(value in array):\n",
        "    print(f\"O valor \\\"{value}\\\" está no array: \\n{array}\")\n",
        "else:\n",
        "    print(f\"O valor \\\"{value}\\\" não está no array: \\n{array}\")"
      ],
      "metadata": {
        "colab": {
          "base_uri": "https://localhost:8080/"
        },
        "id": "tpeNs-3pYCyz",
        "outputId": "7430ad2c-f5dc-4f07-ba4b-82e351b15f05"
      },
      "execution_count": null,
      "outputs": [
        {
          "output_type": "stream",
          "name": "stdout",
          "text": [
            "\u001b[1m11.Check elements present in the NumPy array\n",
            "\u001b[0m\n",
            "O valor \"6\" está no array: \n",
            "[[1 2 3]\n",
            " [4 5 6]]\n"
          ]
        }
      ]
    },
    {
      "cell_type": "code",
      "source": [
        "# 12.Combined array index by index\n",
        "print('\\033[1m' + \"12.Combined array index by index\\n\" + '\\033[0m')\n",
        "\n",
        "arrayTwoDim = np.array([[1, 8, 2], \n",
        "                        [2, 8, 8]])\n",
        "\n",
        "arrayOneDim = np.array([1, 2, 3])\n",
        "print(\"Array com uma dimensão: \\n\", arrayOneDim)\n",
        "print(\"Array com duas dimensão: \\n\", arrayTwoDim)\n",
        "print()\n",
        "for i, j in np.nditer([arrayOneDim, arrayTwoDim]):\n",
        "    print(i, \"|\", j)"
      ],
      "metadata": {
        "colab": {
          "base_uri": "https://localhost:8080/"
        },
        "id": "o0CMXS0IYDo8",
        "outputId": "75bc4d47-3e9d-4997-e3b6-260e6f0b0426"
      },
      "execution_count": null,
      "outputs": [
        {
          "output_type": "stream",
          "name": "stdout",
          "text": [
            "\u001b[1m12.Combined array index by index\n",
            "\u001b[0m\n",
            "Array com uma dimensão: \n",
            " [1 2 3]\n",
            "Array com duas dimensão: \n",
            " [[1 8 2]\n",
            " [2 8 8]]\n",
            "\n",
            "1 | 1\n",
            "2 | 8\n",
            "3 | 2\n",
            "1 | 2\n",
            "2 | 8\n",
            "3 | 8\n"
          ]
        }
      ]
    },
    {
      "cell_type": "markdown",
      "metadata": {
        "id": "Myma4J_xXTT9"
      },
      "source": [
        "#**Questions on NumPy Linear Algebra**"
      ]
    },
    {
      "cell_type": "code",
      "execution_count": null,
      "metadata": {
        "id": "BS1xaIBBXTz7"
      },
      "outputs": [],
      "source": [
        "# 1.Find a matrix or vector norm using NumPy\n"
      ]
    },
    {
      "cell_type": "code",
      "source": [
        "# 2.Calculate the QR decomposition of a given matrix using NumPy\n"
      ],
      "metadata": {
        "id": "6c3rBvHFYP_B"
      },
      "execution_count": null,
      "outputs": []
    },
    {
      "cell_type": "code",
      "source": [
        "# 3.Compute the condition number of a given matrix using NumPy\n"
      ],
      "metadata": {
        "id": "5fmitpS2YQye"
      },
      "execution_count": null,
      "outputs": []
    },
    {
      "cell_type": "code",
      "source": [
        "# 4.Compute the eigenvalues and right eigenvectors of a given square array using NumPy?\n"
      ],
      "metadata": {
        "id": "aTE3DpR6YRe1"
      },
      "execution_count": null,
      "outputs": []
    },
    {
      "cell_type": "code",
      "source": [
        "# 5.Calculate the Euclidean distance using NumPy"
      ],
      "metadata": {
        "id": "oqDoa4NKYSOB"
      },
      "execution_count": null,
      "outputs": []
    },
    {
      "cell_type": "markdown",
      "metadata": {
        "id": "wfhoZD8nXUC-"
      },
      "source": [
        "#**Questions on NumPy Random**"
      ]
    },
    {
      "cell_type": "code",
      "execution_count": null,
      "metadata": {
        "id": "XvleGr0MXUYI"
      },
      "outputs": [],
      "source": [
        "# 1.Create a Numpy array with random values\n"
      ]
    },
    {
      "cell_type": "code",
      "source": [
        "# 2.How to choose elements from the list with different probability using NumPy?\n"
      ],
      "metadata": {
        "id": "oq13K9c4YTww"
      },
      "execution_count": null,
      "outputs": []
    },
    {
      "cell_type": "code",
      "source": [
        "# 3.How to get weighted random choice in Python?\n"
      ],
      "metadata": {
        "id": "lKdXLRdaYU1W"
      },
      "execution_count": null,
      "outputs": []
    },
    {
      "cell_type": "code",
      "source": [
        "# 4.Generate Random Numbers From The Uniform Distribution using NumPy\n"
      ],
      "metadata": {
        "id": "QEWITX87YV7B"
      },
      "execution_count": null,
      "outputs": []
    },
    {
      "cell_type": "code",
      "source": [
        "# 5.Get Random Elements form geometric distribution\n"
      ],
      "metadata": {
        "id": "AnmHp9jaYW0W"
      },
      "execution_count": null,
      "outputs": []
    },
    {
      "cell_type": "code",
      "source": [
        "# 6.Get Random elements from Laplace distribution\n"
      ],
      "metadata": {
        "id": "03xtCKn1YXoL"
      },
      "execution_count": null,
      "outputs": []
    },
    {
      "cell_type": "code",
      "source": [
        "# 7.Return a Matrix of random values from a uniform distribution\n"
      ],
      "metadata": {
        "id": "YTmH7k-4YYcP"
      },
      "execution_count": null,
      "outputs": []
    },
    {
      "cell_type": "code",
      "source": [
        "# 8.Return a Matrix of random values from a Gaussian distribution"
      ],
      "metadata": {
        "id": "BS2zbA3lYZNK"
      },
      "execution_count": null,
      "outputs": []
    },
    {
      "cell_type": "markdown",
      "metadata": {
        "id": "avngGZysXhA1"
      },
      "source": [
        "#**Questions on NumPy Sorting and Searching**"
      ]
    },
    {
      "cell_type": "code",
      "execution_count": null,
      "metadata": {
        "id": "pEQthwDdXh1J"
      },
      "outputs": [],
      "source": [
        "# 1.How to get the indices of the sorted array using NumPy in Python?\n"
      ]
    },
    {
      "cell_type": "code",
      "source": [
        "# 2.Finding the k smallest values of a NumPy array\n"
      ],
      "metadata": {
        "id": "eCD0ThSlYawp"
      },
      "execution_count": null,
      "outputs": []
    },
    {
      "cell_type": "code",
      "source": [
        "# 3.How to get the n-largest values of an array using NumPy?\n"
      ],
      "metadata": {
        "id": "_M6WjM9CYbik"
      },
      "execution_count": null,
      "outputs": []
    },
    {
      "cell_type": "code",
      "source": [
        "# 4.Sort the values in a matrix\n"
      ],
      "metadata": {
        "id": "jQaSGw97YcSl"
      },
      "execution_count": null,
      "outputs": []
    },
    {
      "cell_type": "code",
      "source": [
        "# 5.Filter out integers from float numpy array\n"
      ],
      "metadata": {
        "id": "fvF5Wa7GYdCS"
      },
      "execution_count": null,
      "outputs": []
    },
    {
      "cell_type": "code",
      "source": [
        "# 6.Find the indices into a sorted array"
      ],
      "metadata": {
        "id": "mvPExDzJYduJ"
      },
      "execution_count": null,
      "outputs": []
    },
    {
      "cell_type": "markdown",
      "metadata": {
        "id": "5RFl6fXpXhrP"
      },
      "source": [
        "#**Questions on NumPy Mathematics**"
      ]
    },
    {
      "cell_type": "code",
      "execution_count": null,
      "metadata": {
        "id": "LmoPNO9_Xo_f"
      },
      "outputs": [],
      "source": [
        "# 1.How to get element-wise true division of an array using Numpy?\n"
      ]
    },
    {
      "cell_type": "code",
      "source": [
        "# 2.How to calculate the element-wise absolute value of NumPy array?\n"
      ],
      "metadata": {
        "id": "ynf6VxVnYqxC"
      },
      "execution_count": null,
      "outputs": []
    },
    {
      "cell_type": "code",
      "source": [
        "# 3.Compute the negative of the NumPy array\n"
      ],
      "metadata": {
        "id": "HqDSBRD3Yrya"
      },
      "execution_count": null,
      "outputs": []
    },
    {
      "cell_type": "code",
      "source": [
        "# 4.Multiply 2d numpy array corresponding to 1d array\n"
      ],
      "metadata": {
        "id": "3rYHKeOwYs0r"
      },
      "execution_count": null,
      "outputs": []
    },
    {
      "cell_type": "code",
      "source": [
        "# 5.Computes the inner product of two arrays\n"
      ],
      "metadata": {
        "id": "2RwLSoLjYuak"
      },
      "execution_count": null,
      "outputs": []
    },
    {
      "cell_type": "code",
      "source": [
        "# 6.Compute the nth percentile of the NumPy array\n"
      ],
      "metadata": {
        "id": "YomhDY_0Yv6G"
      },
      "execution_count": null,
      "outputs": []
    },
    {
      "cell_type": "code",
      "source": [
        "# 7.Calculate the n-th order discrete difference along the given axis\n"
      ],
      "metadata": {
        "id": "v0xsTFzVYxVi"
      },
      "execution_count": null,
      "outputs": []
    },
    {
      "cell_type": "code",
      "source": [
        "# 8.Calculate the sum of all columns in a 2D NumPy array\n"
      ],
      "metadata": {
        "id": "RxhSdauSYyNy"
      },
      "execution_count": null,
      "outputs": []
    },
    {
      "cell_type": "code",
      "source": [
        "# 9.Calculate average values of two given NumPy arrays\n"
      ],
      "metadata": {
        "id": "lgI0UvttYzOb"
      },
      "execution_count": null,
      "outputs": []
    },
    {
      "cell_type": "code",
      "source": [
        "# 10.How to compute numerical negative value for all elements in a given NumPy array?\n"
      ],
      "metadata": {
        "id": "-rgjwN_-Y1IL"
      },
      "execution_count": null,
      "outputs": []
    },
    {
      "cell_type": "code",
      "source": [
        "# 11.How to get the floor, ceiling and truncated values of the elements of a numpy array?\n"
      ],
      "metadata": {
        "id": "Rw74i3HjY2Dc"
      },
      "execution_count": null,
      "outputs": []
    },
    {
      "cell_type": "code",
      "source": [
        "# 12.How to round elements of the NumPy array to the nearest integer?\n"
      ],
      "metadata": {
        "id": "u2Cf4Ce3Y268"
      },
      "execution_count": null,
      "outputs": []
    },
    {
      "cell_type": "code",
      "source": [
        "# 13.Find the round off the values of the given matrix\n"
      ],
      "metadata": {
        "id": "fJwkGQb9Y22I"
      },
      "execution_count": null,
      "outputs": []
    },
    {
      "cell_type": "code",
      "source": [
        "# 14.Determine the positive square-root of an array\n"
      ],
      "metadata": {
        "id": "LqkPQ3xIY47K"
      },
      "execution_count": null,
      "outputs": []
    },
    {
      "cell_type": "code",
      "source": [
        "# 15.Evaluate Einstein’s summation convention of two multidimensional NumPy arrays"
      ],
      "metadata": {
        "id": "EQnFvkFCY4xe"
      },
      "execution_count": null,
      "outputs": []
    },
    {
      "cell_type": "markdown",
      "metadata": {
        "id": "h9OJDU1lXppM"
      },
      "source": [
        "#**Questions on NumPy Statistics**"
      ]
    },
    {
      "cell_type": "code",
      "execution_count": null,
      "metadata": {
        "id": "Ny96pj4iXp5y"
      },
      "outputs": [],
      "source": [
        "# 1.Compute the median of the flattened NumPy array\n"
      ]
    },
    {
      "cell_type": "code",
      "source": [
        "# 2.Find Mean of a List of Numpy Array\n"
      ],
      "metadata": {
        "id": "JtsOe8pxY-8I"
      },
      "execution_count": null,
      "outputs": []
    },
    {
      "cell_type": "code",
      "source": [
        "# 3.Calculate the mean of array ignoring the NaN value\n"
      ],
      "metadata": {
        "id": "Mkq1RK9nY-6h"
      },
      "execution_count": null,
      "outputs": []
    },
    {
      "cell_type": "code",
      "source": [
        "# 4.Get the mean value from given matrix\n"
      ],
      "metadata": {
        "id": "i1eLNsMfY-33"
      },
      "execution_count": null,
      "outputs": []
    },
    {
      "cell_type": "code",
      "source": [
        "# 5.Compute the variance of the NumPy array\n"
      ],
      "metadata": {
        "id": "3CfUHtYiY-1O"
      },
      "execution_count": null,
      "outputs": []
    },
    {
      "cell_type": "code",
      "source": [
        "# 6.Compute the standard deviation of the NumPy array\n"
      ],
      "metadata": {
        "id": "qAxU0p5xY-yy"
      },
      "execution_count": null,
      "outputs": []
    },
    {
      "cell_type": "code",
      "source": [
        "# 7.Compute pearson product-moment correlation coefficients of two given NumPy arrays\n"
      ],
      "metadata": {
        "id": "ZSA1rutUY-uy"
      },
      "execution_count": null,
      "outputs": []
    },
    {
      "cell_type": "code",
      "source": [
        "# 8.Calculate the mean across dimension in a 2D NumPy array\n"
      ],
      "metadata": {
        "id": "FUUY1EE3ZDY8"
      },
      "execution_count": null,
      "outputs": []
    },
    {
      "cell_type": "code",
      "source": [
        "# 9.Calculate the average, variance and standard deviation in Python using NumPy\n"
      ],
      "metadata": {
        "id": "Z03Sb1C0ZDXE"
      },
      "execution_count": null,
      "outputs": []
    },
    {
      "cell_type": "code",
      "source": [
        "# 10.Describe a NumPy Array in Python"
      ],
      "metadata": {
        "id": "7K1FAHZuZDUx"
      },
      "execution_count": null,
      "outputs": []
    },
    {
      "cell_type": "markdown",
      "metadata": {
        "id": "oDUKf3mwXt13"
      },
      "source": [
        "#**Questions on Polynomial**"
      ]
    },
    {
      "cell_type": "code",
      "execution_count": null,
      "metadata": {
        "id": "Z39dTTIbXtcb"
      },
      "outputs": [],
      "source": [
        "# 1.Define a polynomial function\n"
      ]
    },
    {
      "cell_type": "code",
      "source": [
        "# 2.How to add one polynomial to another using NumPy in Python?\n"
      ],
      "metadata": {
        "id": "MOe26wP6ZOnu"
      },
      "execution_count": null,
      "outputs": []
    },
    {
      "cell_type": "code",
      "source": [
        "# 3.How to subtract one polynomial to another using NumPy in Python?\n"
      ],
      "metadata": {
        "id": "uA98_xRKZPiw"
      },
      "execution_count": null,
      "outputs": []
    },
    {
      "cell_type": "code",
      "source": [
        "# 4.How to multiply a polynomial to another using NumPy in Python?\n"
      ],
      "metadata": {
        "id": "NzHrrRE9ZQTF"
      },
      "execution_count": null,
      "outputs": []
    },
    {
      "cell_type": "code",
      "source": [
        "# 5.How to divide a polynomial to another using NumPy in Python?\n"
      ],
      "metadata": {
        "id": "tPtpWj1jZRGA"
      },
      "execution_count": null,
      "outputs": []
    },
    {
      "cell_type": "code",
      "source": [
        "# 6.Find the roots of the polynomials using NumPy\n"
      ],
      "metadata": {
        "id": "fAwORrfJZRz3"
      },
      "execution_count": null,
      "outputs": []
    },
    {
      "cell_type": "code",
      "source": [
        "# 7.Evaluate a 2-D polynomial series on the Cartesian product\n"
      ],
      "metadata": {
        "id": "79tr-sMjZSod"
      },
      "execution_count": null,
      "outputs": []
    },
    {
      "cell_type": "code",
      "source": [
        "# 8.Evaluate a 3-D polynomial series on the Cartesian product"
      ],
      "metadata": {
        "id": "SM4oOcyUZTZF"
      },
      "execution_count": null,
      "outputs": []
    },
    {
      "cell_type": "markdown",
      "metadata": {
        "id": "nlYg4nJMXudj"
      },
      "source": [
        "#**Questions on NumPy Strings**"
      ]
    },
    {
      "cell_type": "code",
      "source": [
        "# 1.Repeat all the elements of a NumPy array of strings\n"
      ],
      "metadata": {
        "id": "i0SvHY6yW3L7"
      },
      "execution_count": null,
      "outputs": []
    },
    {
      "cell_type": "code",
      "source": [
        "# 2.How to split the element of a given NumPy array with spaces?\n"
      ],
      "metadata": {
        "id": "ZujFhkpvZXOE"
      },
      "execution_count": null,
      "outputs": []
    },
    {
      "cell_type": "code",
      "source": [
        "# 3.How to insert a space between characters of all the elements of a given NumPy array?\n"
      ],
      "metadata": {
        "id": "zbl4o46VZXLY"
      },
      "execution_count": null,
      "outputs": []
    },
    {
      "cell_type": "code",
      "source": [
        "# 4.Find the length of each string element in the Numpy array\n"
      ],
      "metadata": {
        "id": "-ggTBxSfZXJB"
      },
      "execution_count": null,
      "outputs": []
    },
    {
      "cell_type": "code",
      "source": [
        "# 5.Swap the case of an array of string\n"
      ],
      "metadata": {
        "id": "vp0nRJzdZXGb"
      },
      "execution_count": null,
      "outputs": []
    },
    {
      "cell_type": "code",
      "source": [
        "# 6.Change the case to uppercase of elements of an array\n"
      ],
      "metadata": {
        "id": "RWYDcLrOZXDt"
      },
      "execution_count": null,
      "outputs": []
    },
    {
      "cell_type": "code",
      "source": [
        "# 7.Change the case to lowercase of elements of an array\n"
      ],
      "metadata": {
        "id": "pKzyL8VnZW9-"
      },
      "execution_count": null,
      "outputs": []
    },
    {
      "cell_type": "code",
      "source": [
        "# 8.Join String by a seperator\n"
      ],
      "metadata": {
        "id": "swm4FQUgZdJB"
      },
      "execution_count": null,
      "outputs": []
    },
    {
      "cell_type": "code",
      "source": [
        "# 9.Check if two same shaped string arrayss one by one\n"
      ],
      "metadata": {
        "id": "Nvewn-VMZdGZ"
      },
      "execution_count": null,
      "outputs": []
    },
    {
      "cell_type": "code",
      "source": [
        "# 10.Count the number of substrings in an array\n"
      ],
      "metadata": {
        "id": "_qKiqpdqZdEA"
      },
      "execution_count": null,
      "outputs": []
    },
    {
      "cell_type": "code",
      "source": [
        "# 11.Find the lowest index of the substring in an array\n"
      ],
      "metadata": {
        "id": "zn2vSyG3ZdBj"
      },
      "execution_count": null,
      "outputs": []
    },
    {
      "cell_type": "code",
      "source": [
        "# 12.Get the boolean array when values end with a particular character"
      ],
      "metadata": {
        "id": "PeQCC0kdZgZj"
      },
      "execution_count": null,
      "outputs": []
    },
    {
      "cell_type": "code",
      "source": [
        "# 13.More Questions on NumPy"
      ],
      "metadata": {
        "id": "CAj2duNOW5TN"
      },
      "execution_count": null,
      "outputs": []
    },
    {
      "cell_type": "code",
      "execution_count": null,
      "metadata": {
        "id": "zVrHRv5eXuta"
      },
      "outputs": [],
      "source": [
        "# 14.Different ways to convert a Python dictionary to a NumPy array\n"
      ]
    },
    {
      "cell_type": "code",
      "source": [
        "# 15.How to convert a list and tuple into NumPy arrays?\n"
      ],
      "metadata": {
        "id": "FLU7J8byZiSq"
      },
      "execution_count": null,
      "outputs": []
    },
    {
      "cell_type": "code",
      "source": [
        "# 16.Ways to convert array of strings to array of floats\n"
      ],
      "metadata": {
        "id": "UbeAqeTQZjHZ"
      },
      "execution_count": null,
      "outputs": []
    },
    {
      "cell_type": "code",
      "source": [
        "# 17.Convert a NumPy array into a csv file\n"
      ],
      "metadata": {
        "id": "MvsT6xvIZj1m"
      },
      "execution_count": null,
      "outputs": []
    },
    {
      "cell_type": "code",
      "source": [
        "# 18.How to Convert an image to NumPy array and save it to CSV file using Python?\n"
      ],
      "metadata": {
        "id": "Oyxj9K4jZlOd"
      },
      "execution_count": null,
      "outputs": []
    },
    {
      "cell_type": "code",
      "source": [
        "# 19.How to save a NumPy array to a text file?\n"
      ],
      "metadata": {
        "id": "OMdetcw5ZlMS"
      },
      "execution_count": null,
      "outputs": []
    },
    {
      "cell_type": "code",
      "source": [
        "# 20.Load data from a text file\n"
      ],
      "metadata": {
        "id": "ddIBjGZhZlJg"
      },
      "execution_count": null,
      "outputs": []
    },
    {
      "cell_type": "code",
      "source": [
        "# 21.Plot line graph from NumPy array\n"
      ],
      "metadata": {
        "id": "d6beA3imZlG4"
      },
      "execution_count": null,
      "outputs": []
    },
    {
      "cell_type": "code",
      "source": [
        "# 22.Create Histogram using NumPy"
      ],
      "metadata": {
        "id": "JgkfouisZlDy"
      },
      "execution_count": null,
      "outputs": []
    }
  ],
  "metadata": {
    "colab": {
      "collapsed_sections": [
        "Myma4J_xXTT9",
        "wfhoZD8nXUC-",
        "avngGZysXhA1",
        "5RFl6fXpXhrP",
        "h9OJDU1lXppM",
        "oDUKf3mwXt13",
        "nlYg4nJMXudj"
      ],
      "provenance": []
    },
    "kernelspec": {
      "display_name": "Python 3",
      "name": "python3"
    },
    "language_info": {
      "name": "python"
    }
  },
  "nbformat": 4,
  "nbformat_minor": 0
}